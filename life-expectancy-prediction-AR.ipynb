{
 "cells": [
  {
   "cell_type": "markdown",
   "id": "05f5dc5f",
   "metadata": {},
   "source": [
    "<div style=\"direction:rtl; text-align:right\">\n",
    "\n",
    "# توقع عمر الوفاة"
   ]
  },
  {
   "cell_type": "markdown",
   "id": "e8cbd986",
   "metadata": {},
   "source": [
    "<div style=\"direction:rtl; text-align:right\">\n",
    "\n",
    "البيانات : https://gist.github.com/aishwarya8615/89d9f36fc014dea62487f7347864d16a"
   ]
  },
  {
   "cell_type": "markdown",
   "id": "9329befa",
   "metadata": {},
   "source": [
    "<div style=\"direction:rtl; text-align:right\">\n",
    "\n",
    "# قراءة البيانات"
   ]
  },
  {
   "cell_type": "code",
   "execution_count": 1,
   "id": "bacfe72b",
   "metadata": {},
   "outputs": [],
   "source": [
    "import pandas as pd\n",
    "import numpy as np"
   ]
  },
  {
   "cell_type": "code",
   "execution_count": 2,
   "id": "85486fb7",
   "metadata": {},
   "outputs": [
    {
     "data": {
      "text/html": [
       "<div>\n",
       "<style scoped>\n",
       "    .dataframe tbody tr th:only-of-type {\n",
       "        vertical-align: middle;\n",
       "    }\n",
       "\n",
       "    .dataframe tbody tr th {\n",
       "        vertical-align: top;\n",
       "    }\n",
       "\n",
       "    .dataframe thead th {\n",
       "        text-align: right;\n",
       "    }\n",
       "</style>\n",
       "<table border=\"1\" class=\"dataframe\">\n",
       "  <thead>\n",
       "    <tr style=\"text-align: right;\">\n",
       "      <th></th>\n",
       "      <th>Country</th>\n",
       "      <th>Continent</th>\n",
       "      <th>Year</th>\n",
       "      <th>Status</th>\n",
       "      <th>Life_expectancy</th>\n",
       "      <th>Adult_Mortality</th>\n",
       "      <th>infant_deaths</th>\n",
       "      <th>Alcohol</th>\n",
       "      <th>percentage_expenditure</th>\n",
       "      <th>Hepatitis_B</th>\n",
       "      <th>...</th>\n",
       "      <th>Polio</th>\n",
       "      <th>Total_expenditure</th>\n",
       "      <th>Diphtheria</th>\n",
       "      <th>HIV/AIDS</th>\n",
       "      <th>GDP</th>\n",
       "      <th>Population</th>\n",
       "      <th>thinness  1-19 years</th>\n",
       "      <th>thinness 5-9 years</th>\n",
       "      <th>Income_composition_of_resources</th>\n",
       "      <th>Schooling</th>\n",
       "    </tr>\n",
       "  </thead>\n",
       "  <tbody>\n",
       "    <tr>\n",
       "      <th>0</th>\n",
       "      <td>Afghanistan</td>\n",
       "      <td>Asia</td>\n",
       "      <td>2015</td>\n",
       "      <td>Developing</td>\n",
       "      <td>65.0</td>\n",
       "      <td>263</td>\n",
       "      <td>62</td>\n",
       "      <td>0.01</td>\n",
       "      <td>71.279624</td>\n",
       "      <td>65.0</td>\n",
       "      <td>...</td>\n",
       "      <td>6.0</td>\n",
       "      <td>8.16</td>\n",
       "      <td>65</td>\n",
       "      <td>0.1</td>\n",
       "      <td>584.259210</td>\n",
       "      <td>33736494</td>\n",
       "      <td>17.2</td>\n",
       "      <td>17.3</td>\n",
       "      <td>0.479</td>\n",
       "      <td>10.1</td>\n",
       "    </tr>\n",
       "    <tr>\n",
       "      <th>1</th>\n",
       "      <td>Afghanistan</td>\n",
       "      <td>Asia</td>\n",
       "      <td>2014</td>\n",
       "      <td>Developing</td>\n",
       "      <td>59.9</td>\n",
       "      <td>271</td>\n",
       "      <td>64</td>\n",
       "      <td>0.01</td>\n",
       "      <td>73.523582</td>\n",
       "      <td>62.0</td>\n",
       "      <td>...</td>\n",
       "      <td>58.0</td>\n",
       "      <td>8.18</td>\n",
       "      <td>62</td>\n",
       "      <td>0.1</td>\n",
       "      <td>612.696514</td>\n",
       "      <td>327582</td>\n",
       "      <td>17.5</td>\n",
       "      <td>17.5</td>\n",
       "      <td>0.476</td>\n",
       "      <td>10.0</td>\n",
       "    </tr>\n",
       "    <tr>\n",
       "      <th>2</th>\n",
       "      <td>Afghanistan</td>\n",
       "      <td>Asia</td>\n",
       "      <td>2013</td>\n",
       "      <td>Developing</td>\n",
       "      <td>59.9</td>\n",
       "      <td>268</td>\n",
       "      <td>66</td>\n",
       "      <td>0.01</td>\n",
       "      <td>73.219243</td>\n",
       "      <td>64.0</td>\n",
       "      <td>...</td>\n",
       "      <td>62.0</td>\n",
       "      <td>8.13</td>\n",
       "      <td>64</td>\n",
       "      <td>0.1</td>\n",
       "      <td>631.744976</td>\n",
       "      <td>31731688</td>\n",
       "      <td>17.7</td>\n",
       "      <td>17.7</td>\n",
       "      <td>0.470</td>\n",
       "      <td>9.9</td>\n",
       "    </tr>\n",
       "    <tr>\n",
       "      <th>3</th>\n",
       "      <td>Afghanistan</td>\n",
       "      <td>Asia</td>\n",
       "      <td>2012</td>\n",
       "      <td>Developing</td>\n",
       "      <td>59.5</td>\n",
       "      <td>272</td>\n",
       "      <td>69</td>\n",
       "      <td>0.01</td>\n",
       "      <td>78.184215</td>\n",
       "      <td>67.0</td>\n",
       "      <td>...</td>\n",
       "      <td>67.0</td>\n",
       "      <td>8.52</td>\n",
       "      <td>67</td>\n",
       "      <td>0.1</td>\n",
       "      <td>669.959000</td>\n",
       "      <td>3696958</td>\n",
       "      <td>17.9</td>\n",
       "      <td>18.0</td>\n",
       "      <td>0.463</td>\n",
       "      <td>9.8</td>\n",
       "    </tr>\n",
       "    <tr>\n",
       "      <th>4</th>\n",
       "      <td>Afghanistan</td>\n",
       "      <td>Asia</td>\n",
       "      <td>2011</td>\n",
       "      <td>Developing</td>\n",
       "      <td>59.2</td>\n",
       "      <td>275</td>\n",
       "      <td>71</td>\n",
       "      <td>0.01</td>\n",
       "      <td>7.097109</td>\n",
       "      <td>68.0</td>\n",
       "      <td>...</td>\n",
       "      <td>68.0</td>\n",
       "      <td>7.87</td>\n",
       "      <td>68</td>\n",
       "      <td>0.1</td>\n",
       "      <td>63.537231</td>\n",
       "      <td>2978599</td>\n",
       "      <td>18.2</td>\n",
       "      <td>18.2</td>\n",
       "      <td>0.454</td>\n",
       "      <td>9.5</td>\n",
       "    </tr>\n",
       "  </tbody>\n",
       "</table>\n",
       "<p>5 rows × 23 columns</p>\n",
       "</div>"
      ],
      "text/plain": [
       "       Country Continent  Year      Status  Life_expectancy   Adult_Mortality  \\\n",
       "0  Afghanistan      Asia  2015  Developing              65.0              263   \n",
       "1  Afghanistan      Asia  2014  Developing              59.9              271   \n",
       "2  Afghanistan      Asia  2013  Developing              59.9              268   \n",
       "3  Afghanistan      Asia  2012  Developing              59.5              272   \n",
       "4  Afghanistan      Asia  2011  Developing              59.2              275   \n",
       "\n",
       "   infant_deaths  Alcohol  percentage_expenditure  Hepatitis_B  ...  Polio  \\\n",
       "0             62     0.01               71.279624         65.0  ...    6.0   \n",
       "1             64     0.01               73.523582         62.0  ...   58.0   \n",
       "2             66     0.01               73.219243         64.0  ...   62.0   \n",
       "3             69     0.01               78.184215         67.0  ...   67.0   \n",
       "4             71     0.01                7.097109         68.0  ...   68.0   \n",
       "\n",
       "   Total_expenditure  Diphtheria    HIV/AIDS         GDP Population  \\\n",
       "0               8.16           65        0.1  584.259210   33736494   \n",
       "1               8.18           62        0.1  612.696514     327582   \n",
       "2               8.13           64        0.1  631.744976   31731688   \n",
       "3               8.52           67        0.1  669.959000    3696958   \n",
       "4               7.87           68        0.1   63.537231    2978599   \n",
       "\n",
       "    thinness  1-19 years   thinness 5-9 years Income_composition_of_resources  \\\n",
       "0                   17.2                 17.3                           0.479   \n",
       "1                   17.5                 17.5                           0.476   \n",
       "2                   17.7                 17.7                           0.470   \n",
       "3                   17.9                 18.0                           0.463   \n",
       "4                   18.2                 18.2                           0.454   \n",
       "\n",
       "   Schooling  \n",
       "0       10.1  \n",
       "1       10.0  \n",
       "2        9.9  \n",
       "3        9.8  \n",
       "4        9.5  \n",
       "\n",
       "[5 rows x 23 columns]"
      ]
     },
     "execution_count": 2,
     "metadata": {},
     "output_type": "execute_result"
    }
   ],
   "source": [
    "data = pd.read_csv('life.csv')\n",
    "data.head()"
   ]
  },
  {
   "cell_type": "markdown",
   "id": "991b945d",
   "metadata": {},
   "source": [
    "<div style=\"direction:rtl; text-align:right\">\n",
    "\n",
    "# طباعة معلومات البيانات"
   ]
  },
  {
   "cell_type": "code",
   "execution_count": 3,
   "id": "a0e3b923",
   "metadata": {},
   "outputs": [
    {
     "name": "stdout",
     "output_type": "stream",
     "text": [
      "<class 'pandas.core.frame.DataFrame'>\n",
      "RangeIndex: 2461 entries, 0 to 2460\n",
      "Data columns (total 23 columns):\n",
      " #   Column                           Non-Null Count  Dtype  \n",
      "---  ------                           --------------  -----  \n",
      " 0   Country                          2461 non-null   object \n",
      " 1   Continent                        2461 non-null   object \n",
      " 2   Year                             2461 non-null   int64  \n",
      " 3   Status                           2461 non-null   object \n",
      " 4   Life_expectancy                  2461 non-null   float64\n",
      " 5   Adult_Mortality                  2461 non-null   int64  \n",
      " 6   infant_deaths                    2461 non-null   int64  \n",
      " 7   Alcohol                          2461 non-null   float64\n",
      " 8   percentage_expenditure           2461 non-null   float64\n",
      " 9   Hepatitis_B                      1997 non-null   float64\n",
      " 10  Measles                          2461 non-null   int64  \n",
      " 11   BMI                             2461 non-null   float64\n",
      " 12  under_five_deaths                2461 non-null   int64  \n",
      " 13  Polio                            2453 non-null   float64\n",
      " 14  Total_expenditure                2309 non-null   float64\n",
      " 15  Diphtheria                       2461 non-null   object \n",
      " 16   HIV/AIDS                        2461 non-null   float64\n",
      " 17  GDP                              2461 non-null   float64\n",
      " 18  Population                       2461 non-null   object \n",
      " 19   thinness  1-19 years            2461 non-null   float64\n",
      " 20   thinness 5-9 years              2461 non-null   float64\n",
      " 21  Income_composition_of_resources  2458 non-null   float64\n",
      " 22  Schooling                        2458 non-null   float64\n",
      "dtypes: float64(13), int64(5), object(5)\n",
      "memory usage: 442.3+ KB\n"
     ]
    }
   ],
   "source": [
    "data.info()"
   ]
  },
  {
   "cell_type": "markdown",
   "id": "d21577e6",
   "metadata": {},
   "source": [
    "<div style=\"direction:rtl; text-align:right\">\n",
    "\n",
    "# الاعمدة التي تحتوي على قيم فارغة"
   ]
  },
  {
   "cell_type": "code",
   "execution_count": 4,
   "id": "b8b065d5",
   "metadata": {},
   "outputs": [
    {
     "data": {
      "text/plain": [
       "5"
      ]
     },
     "execution_count": 4,
     "metadata": {},
     "output_type": "execute_result"
    }
   ],
   "source": [
    "na_cols = data.columns[data.isna().any()]\n",
    "len(na_cols)"
   ]
  },
  {
   "cell_type": "markdown",
   "id": "53fb4fcb",
   "metadata": {},
   "source": [
    "<div style=\"direction:rtl; text-align:right\">\n",
    "\n",
    "# الاعمدة الرقمية"
   ]
  },
  {
   "cell_type": "code",
   "execution_count": 5,
   "id": "1ece950a",
   "metadata": {},
   "outputs": [
    {
     "data": {
      "text/plain": [
       "Index(['Year', 'Life_expectancy ', 'Adult_Mortality', 'infant_deaths',\n",
       "       'Alcohol', 'percentage_expenditure', 'Hepatitis_B', 'Measles ', ' BMI ',\n",
       "       'under_five_deaths ', 'Polio', 'Total_expenditure', ' HIV/AIDS', 'GDP',\n",
       "       ' thinness  1-19 years', ' thinness 5-9 years',\n",
       "       'Income_composition_of_resources', 'Schooling'],\n",
       "      dtype='object')"
      ]
     },
     "execution_count": 5,
     "metadata": {},
     "output_type": "execute_result"
    }
   ],
   "source": [
    "numeric_cols = data.select_dtypes(include=np.number).columns\n",
    "numeric_cols"
   ]
  },
  {
   "cell_type": "markdown",
   "id": "6308fbe2",
   "metadata": {},
   "source": [
    "<div style=\"direction:rtl; text-align:right\">\n",
    "\n",
    "# الاعمدة الرقمية التي تحتوي على قيم فارغة"
   ]
  },
  {
   "cell_type": "code",
   "execution_count": 6,
   "id": "70382033",
   "metadata": {},
   "outputs": [
    {
     "data": {
      "text/plain": [
       "['Hepatitis_B',\n",
       " 'Polio',\n",
       " 'Total_expenditure',\n",
       " 'Income_composition_of_resources',\n",
       " 'Schooling']"
      ]
     },
     "execution_count": 6,
     "metadata": {},
     "output_type": "execute_result"
    }
   ],
   "source": [
    "na_numeric_cols = [x for x in na_cols if x in numeric_cols]\n",
    "na_numeric_cols"
   ]
  },
  {
   "cell_type": "markdown",
   "id": "7f309ed8",
   "metadata": {},
   "source": [
    "<div style=\"direction:rtl; text-align:right\">\n",
    "\n",
    "# الاعمدة النصية"
   ]
  },
  {
   "cell_type": "code",
   "execution_count": 7,
   "id": "0ef88f79",
   "metadata": {},
   "outputs": [
    {
     "data": {
      "text/plain": [
       "Index(['Country', 'Continent', 'Status', 'Diphtheria ', 'Population'], dtype='object')"
      ]
     },
     "execution_count": 7,
     "metadata": {},
     "output_type": "execute_result"
    }
   ],
   "source": [
    "cat_cols = data.select_dtypes(include='object').columns\n",
    "cat_cols"
   ]
  },
  {
   "cell_type": "markdown",
   "id": "555e4117",
   "metadata": {},
   "source": [
    "<div style=\"direction:rtl; text-align:right\">\n",
    "\n",
    "# الاعمدة النصية التي تحتوي على قيم فارغة"
   ]
  },
  {
   "cell_type": "code",
   "execution_count": 8,
   "id": "028e7df0",
   "metadata": {},
   "outputs": [
    {
     "data": {
      "text/plain": [
       "[]"
      ]
     },
     "execution_count": 8,
     "metadata": {},
     "output_type": "execute_result"
    }
   ],
   "source": [
    "na_cat_cols = [x for x in na_cols if x in cat_cols]\n",
    "na_cat_cols"
   ]
  },
  {
   "cell_type": "markdown",
   "id": "e37bcc0e",
   "metadata": {},
   "source": [
    "<div style=\"direction:rtl; text-align:right\">\n",
    "\n",
    "# تجهيز و تنظيف البيانات"
   ]
  },
  {
   "cell_type": "code",
   "execution_count": 9,
   "id": "c7fb80d5",
   "metadata": {},
   "outputs": [
    {
     "data": {
      "text/plain": [
       "<AxesSubplot:ylabel='Frequency'>"
      ]
     },
     "execution_count": 9,
     "metadata": {},
     "output_type": "execute_result"
    },
    {
     "data": {
      "image/png": "[encoded data removed]",
      "text/plain": [
       "<Figure size 432x288 with 1 Axes>"
      ]
     },
     "metadata": {
      "needs_background": "light"
     },
     "output_type": "display_data"
    }
   ],
   "source": [
    "# سنتفحص الأعمدة الرقمية الغير كاملة لنعوض البيانات المفقودة\n",
    "# تنحدر القيم بوضوح نحو اليسار لذا سنستبدل القيم الفارغة بقيمة مميزة\n",
    "data[na_numeric_cols[0]].plot.hist(bins=60)"
   ]
  },
  {
   "cell_type": "code",
   "execution_count": 10,
   "id": "12835c75",
   "metadata": {},
   "outputs": [
    {
     "data": {
      "text/plain": [
       "<AxesSubplot:ylabel='Frequency'>"
      ]
     },
     "execution_count": 10,
     "metadata": {},
     "output_type": "execute_result"
    },
    {
     "data": {
      "image/png": "[encoded data removed]",
      "text/plain": [
       "<Figure size 432x288 with 1 Axes>"
      ]
     },
     "metadata": {
      "needs_background": "light"
     },
     "output_type": "display_data"
    }
   ],
   "source": [
    "# تنحدر القيم بوضوح نحو اليسار لذا سنستبدل القيم الفارغة بقيمة مميزة\n",
    "data[na_numeric_cols[1]].plot.hist(bins=60)"
   ]
  },
  {
   "cell_type": "code",
   "execution_count": 11,
   "id": "fe5b37a5",
   "metadata": {},
   "outputs": [
    {
     "data": {
      "text/plain": [
       "<AxesSubplot:ylabel='Frequency'>"
      ]
     },
     "execution_count": 11,
     "metadata": {},
     "output_type": "execute_result"
    },
    {
     "data": {
      "image/png": "[encoded data removed]",
      "text/plain": [
       "<Figure size 432x288 with 1 Axes>"
      ]
     },
     "metadata": {
      "needs_background": "light"
     },
     "output_type": "display_data"
    }
   ],
   "source": [
    "# سنستبدل القيمة الفارغة بالوسيط نظرا لتوزع البيانات\n",
    "data[na_numeric_cols[2]].plot.hist(bins=60)"
   ]
  },
  {
   "cell_type": "code",
   "execution_count": 12,
   "id": "216a0a14",
   "metadata": {},
   "outputs": [
    {
     "data": {
      "text/plain": [
       "<AxesSubplot:ylabel='Frequency'>"
      ]
     },
     "execution_count": 12,
     "metadata": {},
     "output_type": "execute_result"
    },
    {
     "data": {
      "image/png": "[encoded data removed]",
      "text/plain": [
       "<Figure size 432x288 with 1 Axes>"
      ]
     },
     "metadata": {
      "needs_background": "light"
     },
     "output_type": "display_data"
    }
   ],
   "source": [
    "# سنستبدل القيمة الفارغة بالوسيط نظرا لتوزع البيانات\n",
    "data[na_numeric_cols[3]].plot.hist(bins=60)"
   ]
  },
  {
   "cell_type": "code",
   "execution_count": 13,
   "id": "ea71d6e0",
   "metadata": {},
   "outputs": [
    {
     "data": {
      "text/plain": [
       "<AxesSubplot:ylabel='Frequency'>"
      ]
     },
     "execution_count": 13,
     "metadata": {},
     "output_type": "execute_result"
    },
    {
     "data": {
      "image/png": "[encoded data removed]",
      "text/plain": [
       "<Figure size 432x288 with 1 Axes>"
      ]
     },
     "metadata": {
      "needs_background": "light"
     },
     "output_type": "display_data"
    }
   ],
   "source": [
    "# سنستبدل القيمة الفارغة بالوسيط نظرا لتوزع البيانات\n",
    "data[na_numeric_cols[4]].plot.hist(bins=60)"
   ]
  },
  {
   "cell_type": "code",
   "execution_count": 14,
   "id": "36e5a858",
   "metadata": {},
   "outputs": [],
   "source": [
    "# نجمع الأعمدة سويا و نستبدلها في حلقة لنختصر\n",
    "med_fill = [2, 3, 4]\n",
    "special_fill = [0, 1]\n",
    "\n",
    "for i in med_fill:\n",
    "    data[na_numeric_cols[i]].fillna(np.nanmedian(data[na_numeric_cols[i]]), inplace=True)"
   ]
  },
  {
   "cell_type": "code",
   "execution_count": 15,
   "id": "a15a093f",
   "metadata": {},
   "outputs": [],
   "source": [
    "for i in special_fill:\n",
    "    data[na_numeric_cols[i]].fillna(-1, inplace=True)"
   ]
  },
  {
   "cell_type": "code",
   "execution_count": 16,
   "id": "38e63e9b",
   "metadata": {},
   "outputs": [
    {
     "data": {
      "text/plain": [
       "Country                            0\n",
       "Continent                          0\n",
       "Year                               0\n",
       "Status                             0\n",
       "Life_expectancy                    0\n",
       "Adult_Mortality                    0\n",
       "infant_deaths                      0\n",
       "Alcohol                            0\n",
       "percentage_expenditure             0\n",
       "Hepatitis_B                        0\n",
       "Measles                            0\n",
       " BMI                               0\n",
       "under_five_deaths                  0\n",
       "Polio                              0\n",
       "Total_expenditure                  0\n",
       "Diphtheria                         0\n",
       " HIV/AIDS                          0\n",
       "GDP                                0\n",
       "Population                         0\n",
       " thinness  1-19 years              0\n",
       " thinness 5-9 years                0\n",
       "Income_composition_of_resources    0\n",
       "Schooling                          0\n",
       "dtype: int64"
      ]
     },
     "execution_count": 16,
     "metadata": {},
     "output_type": "execute_result"
    }
   ],
   "source": [
    "data.isna().sum()"
   ]
  },
  {
   "cell_type": "code",
   "execution_count": 17,
   "id": "6ae9c940",
   "metadata": {},
   "outputs": [
    {
     "data": {
      "text/plain": [
       "Niger                   16\n",
       "United Arab Emirates    16\n",
       "Estonia                 16\n",
       "Trinidad and Tobago     16\n",
       "Norway                  16\n",
       "                        ..\n",
       "Eritrea                 12\n",
       "Iraq                    12\n",
       "Libya                   12\n",
       "Syrian Arab Republic     8\n",
       "Somalia                  3\n",
       "Name: Country, Length: 156, dtype: int64"
      ]
     },
     "execution_count": 17,
     "metadata": {},
     "output_type": "execute_result"
    }
   ],
   "source": [
    "# بالنسبة للأعمدة الفئوية سنتفحص عدد قيمها\n",
    "# عمود الدولة يحوي العديد من الدول، سيتجوب علينا استخدام get_dummies\n",
    "data['Country'].value_counts()"
   ]
  },
  {
   "cell_type": "code",
   "execution_count": 18,
   "id": "53b79db9",
   "metadata": {},
   "outputs": [
    {
     "data": {
      "text/plain": [
       "Developing    2013\n",
       "Developed      448\n",
       "Name: Status, dtype: int64"
      ]
     },
     "execution_count": 18,
     "metadata": {},
     "output_type": "execute_result"
    }
   ],
   "source": [
    "# هذا العمود يحوي قيمتين فحسب و سيكفي تحويلهم لصفر و واحد\n",
    "data['Status'].value_counts()"
   ]
  },
  {
   "cell_type": "code",
   "execution_count": 19,
   "id": "5c7c1424",
   "metadata": {},
   "outputs": [],
   "source": [
    "# تجهيز البيانات الفئوية\n",
    "new_cols = pd.get_dummies(data['Country'], prefix='Country')\n",
    "data = pd.concat([data, new_cols], axis=1)\n",
    "data.drop(columns='Country', inplace=True)\n",
    "\n",
    "data['Status'].replace('Developing', 0, inplace=True)\n",
    "data['Status'].replace('Developed', 1, inplace=True)\n",
    "\n",
    "# Unknown values\n",
    "data.replace('Unknown', -1, inplace=True)"
   ]
  },
  {
   "cell_type": "code",
   "execution_count": 20,
   "id": "77ed6262",
   "metadata": {},
   "outputs": [
    {
     "data": {
      "text/html": [
       "<div>\n",
       "<style scoped>\n",
       "    .dataframe tbody tr th:only-of-type {\n",
       "        vertical-align: middle;\n",
       "    }\n",
       "\n",
       "    .dataframe tbody tr th {\n",
       "        vertical-align: top;\n",
       "    }\n",
       "\n",
       "    .dataframe thead th {\n",
       "        text-align: right;\n",
       "    }\n",
       "</style>\n",
       "<table border=\"1\" class=\"dataframe\">\n",
       "  <thead>\n",
       "    <tr style=\"text-align: right;\">\n",
       "      <th></th>\n",
       "      <th>Continent</th>\n",
       "      <th>Year</th>\n",
       "      <th>Status</th>\n",
       "      <th>Life_expectancy</th>\n",
       "      <th>Adult_Mortality</th>\n",
       "      <th>infant_deaths</th>\n",
       "      <th>Alcohol</th>\n",
       "      <th>percentage_expenditure</th>\n",
       "      <th>Hepatitis_B</th>\n",
       "      <th>Measles</th>\n",
       "      <th>...</th>\n",
       "      <th>Country_Turkey</th>\n",
       "      <th>Country_Turkmenistan</th>\n",
       "      <th>Country_Uganda</th>\n",
       "      <th>Country_Ukraine</th>\n",
       "      <th>Country_United Arab Emirates</th>\n",
       "      <th>Country_Uruguay</th>\n",
       "      <th>Country_Uzbekistan</th>\n",
       "      <th>Country_Vanuatu</th>\n",
       "      <th>Country_Zambia</th>\n",
       "      <th>Country_Zimbabwe</th>\n",
       "    </tr>\n",
       "  </thead>\n",
       "  <tbody>\n",
       "    <tr>\n",
       "      <th>0</th>\n",
       "      <td>Asia</td>\n",
       "      <td>2015</td>\n",
       "      <td>0</td>\n",
       "      <td>65.0</td>\n",
       "      <td>263</td>\n",
       "      <td>62</td>\n",
       "      <td>0.01</td>\n",
       "      <td>71.279624</td>\n",
       "      <td>65.0</td>\n",
       "      <td>1154</td>\n",
       "      <td>...</td>\n",
       "      <td>0</td>\n",
       "      <td>0</td>\n",
       "      <td>0</td>\n",
       "      <td>0</td>\n",
       "      <td>0</td>\n",
       "      <td>0</td>\n",
       "      <td>0</td>\n",
       "      <td>0</td>\n",
       "      <td>0</td>\n",
       "      <td>0</td>\n",
       "    </tr>\n",
       "    <tr>\n",
       "      <th>1</th>\n",
       "      <td>Asia</td>\n",
       "      <td>2014</td>\n",
       "      <td>0</td>\n",
       "      <td>59.9</td>\n",
       "      <td>271</td>\n",
       "      <td>64</td>\n",
       "      <td>0.01</td>\n",
       "      <td>73.523582</td>\n",
       "      <td>62.0</td>\n",
       "      <td>492</td>\n",
       "      <td>...</td>\n",
       "      <td>0</td>\n",
       "      <td>0</td>\n",
       "      <td>0</td>\n",
       "      <td>0</td>\n",
       "      <td>0</td>\n",
       "      <td>0</td>\n",
       "      <td>0</td>\n",
       "      <td>0</td>\n",
       "      <td>0</td>\n",
       "      <td>0</td>\n",
       "    </tr>\n",
       "    <tr>\n",
       "      <th>2</th>\n",
       "      <td>Asia</td>\n",
       "      <td>2013</td>\n",
       "      <td>0</td>\n",
       "      <td>59.9</td>\n",
       "      <td>268</td>\n",
       "      <td>66</td>\n",
       "      <td>0.01</td>\n",
       "      <td>73.219243</td>\n",
       "      <td>64.0</td>\n",
       "      <td>430</td>\n",
       "      <td>...</td>\n",
       "      <td>0</td>\n",
       "      <td>0</td>\n",
       "      <td>0</td>\n",
       "      <td>0</td>\n",
       "      <td>0</td>\n",
       "      <td>0</td>\n",
       "      <td>0</td>\n",
       "      <td>0</td>\n",
       "      <td>0</td>\n",
       "      <td>0</td>\n",
       "    </tr>\n",
       "    <tr>\n",
       "      <th>3</th>\n",
       "      <td>Asia</td>\n",
       "      <td>2012</td>\n",
       "      <td>0</td>\n",
       "      <td>59.5</td>\n",
       "      <td>272</td>\n",
       "      <td>69</td>\n",
       "      <td>0.01</td>\n",
       "      <td>78.184215</td>\n",
       "      <td>67.0</td>\n",
       "      <td>2787</td>\n",
       "      <td>...</td>\n",
       "      <td>0</td>\n",
       "      <td>0</td>\n",
       "      <td>0</td>\n",
       "      <td>0</td>\n",
       "      <td>0</td>\n",
       "      <td>0</td>\n",
       "      <td>0</td>\n",
       "      <td>0</td>\n",
       "      <td>0</td>\n",
       "      <td>0</td>\n",
       "    </tr>\n",
       "    <tr>\n",
       "      <th>4</th>\n",
       "      <td>Asia</td>\n",
       "      <td>2011</td>\n",
       "      <td>0</td>\n",
       "      <td>59.2</td>\n",
       "      <td>275</td>\n",
       "      <td>71</td>\n",
       "      <td>0.01</td>\n",
       "      <td>7.097109</td>\n",
       "      <td>68.0</td>\n",
       "      <td>3013</td>\n",
       "      <td>...</td>\n",
       "      <td>0</td>\n",
       "      <td>0</td>\n",
       "      <td>0</td>\n",
       "      <td>0</td>\n",
       "      <td>0</td>\n",
       "      <td>0</td>\n",
       "      <td>0</td>\n",
       "      <td>0</td>\n",
       "      <td>0</td>\n",
       "      <td>0</td>\n",
       "    </tr>\n",
       "  </tbody>\n",
       "</table>\n",
       "<p>5 rows × 178 columns</p>\n",
       "</div>"
      ],
      "text/plain": [
       "  Continent  Year  Status  Life_expectancy   Adult_Mortality  infant_deaths  \\\n",
       "0      Asia  2015       0              65.0              263             62   \n",
       "1      Asia  2014       0              59.9              271             64   \n",
       "2      Asia  2013       0              59.9              268             66   \n",
       "3      Asia  2012       0              59.5              272             69   \n",
       "4      Asia  2011       0              59.2              275             71   \n",
       "\n",
       "   Alcohol  percentage_expenditure  Hepatitis_B  Measles   ...  \\\n",
       "0     0.01               71.279624         65.0      1154  ...   \n",
       "1     0.01               73.523582         62.0       492  ...   \n",
       "2     0.01               73.219243         64.0       430  ...   \n",
       "3     0.01               78.184215         67.0      2787  ...   \n",
       "4     0.01                7.097109         68.0      3013  ...   \n",
       "\n",
       "   Country_Turkey  Country_Turkmenistan  Country_Uganda  Country_Ukraine  \\\n",
       "0               0                     0               0                0   \n",
       "1               0                     0               0                0   \n",
       "2               0                     0               0                0   \n",
       "3               0                     0               0                0   \n",
       "4               0                     0               0                0   \n",
       "\n",
       "  Country_United Arab Emirates  Country_Uruguay  Country_Uzbekistan  \\\n",
       "0                            0                0                   0   \n",
       "1                            0                0                   0   \n",
       "2                            0                0                   0   \n",
       "3                            0                0                   0   \n",
       "4                            0                0                   0   \n",
       "\n",
       "  Country_Vanuatu  Country_Zambia  Country_Zimbabwe  \n",
       "0               0               0                 0  \n",
       "1               0               0                 0  \n",
       "2               0               0                 0  \n",
       "3               0               0                 0  \n",
       "4               0               0                 0  \n",
       "\n",
       "[5 rows x 178 columns]"
      ]
     },
     "execution_count": 20,
     "metadata": {},
     "output_type": "execute_result"
    }
   ],
   "source": [
    "data.head()"
   ]
  },
  {
   "cell_type": "code",
   "execution_count": 21,
   "id": "7efe28e0",
   "metadata": {},
   "outputs": [
    {
     "data": {
      "text/plain": [
       "Index(['Continent', 'Year', 'Status', 'Life_expectancy ', 'Adult_Mortality',\n",
       "       'infant_deaths', 'Alcohol', 'percentage_expenditure', 'Hepatitis_B',\n",
       "       'Measles ',\n",
       "       ...\n",
       "       'Country_Turkey', 'Country_Turkmenistan', 'Country_Uganda',\n",
       "       'Country_Ukraine', 'Country_United Arab Emirates', 'Country_Uruguay',\n",
       "       'Country_Uzbekistan', 'Country_Vanuatu', 'Country_Zambia',\n",
       "       'Country_Zimbabwe'],\n",
       "      dtype='object', length=178)"
      ]
     },
     "execution_count": 21,
     "metadata": {},
     "output_type": "execute_result"
    }
   ],
   "source": [
    "data.columns"
   ]
  },
  {
   "cell_type": "code",
   "execution_count": 22,
   "id": "ebc8acc4",
   "metadata": {},
   "outputs": [
    {
     "data": {
      "text/plain": [
       "0    65.0\n",
       "1    59.9\n",
       "2    59.9\n",
       "3    59.5\n",
       "4    59.2\n",
       "Name: Life_expectancy , dtype: float64"
      ]
     },
     "execution_count": 22,
     "metadata": {},
     "output_type": "execute_result"
    }
   ],
   "source": [
    "data['Life_expectancy '].head()"
   ]
  },
  {
   "cell_type": "code",
   "execution_count": 23,
   "id": "9e58b608",
   "metadata": {},
   "outputs": [],
   "source": [
    "# فصل متغيرات التنبؤ عن متغير الاستجابة\n",
    "X = data.drop(columns=['Life_expectancy ', 'Continent'])\n",
    "y = data['Life_expectancy ']"
   ]
  },
  {
   "cell_type": "code",
   "execution_count": 24,
   "id": "63f91bac",
   "metadata": {},
   "outputs": [],
   "source": [
    "# تجهيز خوارزمية التنبؤ\n",
    "# https://scikit-learn.org/stable/modules/generated/sklearn.svm.SVR.html\n",
    "from sklearn.svm import SVR\n",
    "model = SVR()"
   ]
  },
  {
   "cell_type": "code",
   "execution_count": 25,
   "id": "a5872b39",
   "metadata": {
    "scrolled": true
   },
   "outputs": [
    {
     "data": {
      "text/plain": [
       "dict_keys(['explained_variance', 'r2', 'max_error', 'neg_median_absolute_error', 'neg_mean_absolute_error', 'neg_mean_absolute_percentage_error', 'neg_mean_squared_error', 'neg_mean_squared_log_error', 'neg_root_mean_squared_error', 'neg_mean_poisson_deviance', 'neg_mean_gamma_deviance', 'accuracy', 'top_k_accuracy', 'roc_auc', 'roc_auc_ovr', 'roc_auc_ovo', 'roc_auc_ovr_weighted', 'roc_auc_ovo_weighted', 'balanced_accuracy', 'average_precision', 'neg_log_loss', 'neg_brier_score', 'adjusted_rand_score', 'rand_score', 'homogeneity_score', 'completeness_score', 'v_measure_score', 'mutual_info_score', 'adjusted_mutual_info_score', 'normalized_mutual_info_score', 'fowlkes_mallows_score', 'precision', 'precision_macro', 'precision_micro', 'precision_samples', 'precision_weighted', 'recall', 'recall_macro', 'recall_micro', 'recall_samples', 'recall_weighted', 'f1', 'f1_macro', 'f1_micro', 'f1_samples', 'f1_weighted', 'jaccard', 'jaccard_macro', 'jaccard_micro', 'jaccard_samples', 'jaccard_weighted'])"
      ]
     },
     "execution_count": 25,
     "metadata": {},
     "output_type": "execute_result"
    }
   ],
   "source": [
    "# التحقق التقاطعي ١٠ مرات\n",
    "# سنطلع أولا على المعايير التي يمكننا القياس بها\n",
    "# https://scikit-learn.org/stable/modules/model_evaluation.html\n",
    "import sklearn\n",
    "sklearn.metrics.SCORERS.keys()"
   ]
  },
  {
   "cell_type": "code",
   "execution_count": 26,
   "id": "a988a766",
   "metadata": {},
   "outputs": [
    {
     "data": {
      "text/plain": [
       "array([-8.24543644, -7.68682313, -7.06426477, -6.71209129, -7.99368659])"
      ]
     },
     "execution_count": 26,
     "metadata": {},
     "output_type": "execute_result"
    }
   ],
   "source": [
    "from sklearn.model_selection import cross_val_score\n",
    "# سنستخدم معدل الفرق المطلق، لاحظ أنه يكون سالبًا لأن القيمة الأقل هي الأفضل\n",
    "scores = cross_val_score(model, X, y, cv=5, scoring='neg_mean_absolute_error')\n",
    "scores"
   ]
  },
  {
   "cell_type": "code",
   "execution_count": 27,
   "id": "723bb778",
   "metadata": {},
   "outputs": [
    {
     "data": {
      "text/plain": [
       "-7.540460444711647"
      ]
     },
     "execution_count": 27,
     "metadata": {},
     "output_type": "execute_result"
    }
   ],
   "source": [
    "# متوسط ال5 قيم\n",
    "np.mean(scores)"
   ]
  },
  {
   "cell_type": "code",
   "execution_count": 28,
   "id": "b9241572",
   "metadata": {},
   "outputs": [
    {
     "data": {
      "text/plain": [
       "array([-8.23638334, -7.68868545, -7.03814557, -6.67392375, -7.97624611])"
      ]
     },
     "execution_count": 28,
     "metadata": {},
     "output_type": "execute_result"
    }
   ],
   "source": [
    "# فلنغير بعض المعطيات للنموذج parameters\n",
    "model= SVR(C=1.5, gamma='scale')\n",
    "scores = cross_val_score(model, X, y, cv=5, scoring='neg_mean_absolute_error')\n",
    "scores"
   ]
  },
  {
   "cell_type": "code",
   "execution_count": 29,
   "id": "aa228bab",
   "metadata": {},
   "outputs": [
    {
     "data": {
      "text/plain": [
       "-7.522676843681637"
      ]
     },
     "execution_count": 29,
     "metadata": {},
     "output_type": "execute_result"
    }
   ],
   "source": [
    "# متوسط ال5 قيم\n",
    "np.mean(scores)"
   ]
  },
  {
   "cell_type": "code",
   "execution_count": 30,
   "id": "0bd18596",
   "metadata": {},
   "outputs": [
    {
     "data": {
      "text/plain": [
       "array([-7.25423935, -8.51020325, -7.30097561, -7.26581301, -8.57556911])"
      ]
     },
     "execution_count": 30,
     "metadata": {},
     "output_type": "execute_result"
    }
   ],
   "source": [
    "# نجرب خوارزمية أخرى\n",
    "# https://scikit-learn.org/stable/modules/generated/sklearn.neighbors.KNeighborsRegressor.html#sklearn.neighbors.KNeighborsRegressor\n",
    "from sklearn.neighbors import KNeighborsRegressor\n",
    "model= KNeighborsRegressor()\n",
    "scores = cross_val_score(model, X, y, cv=5, scoring='neg_mean_absolute_error')\n",
    "scores"
   ]
  },
  {
   "cell_type": "code",
   "execution_count": 31,
   "id": "d3a026ef",
   "metadata": {},
   "outputs": [
    {
     "data": {
      "text/plain": [
       "-7.781360065304507"
      ]
     },
     "execution_count": 31,
     "metadata": {},
     "output_type": "execute_result"
    }
   ],
   "source": [
    "# متوسط ال5 قيم\n",
    "np.mean(scores)"
   ]
  },
  {
   "cell_type": "code",
   "execution_count": 32,
   "id": "831d040d",
   "metadata": {},
   "outputs": [
    {
     "data": {
      "text/plain": [
       "array([-7.23966193, -8.04822493, -7.53334011, -6.57595528, -8.28775068])"
      ]
     },
     "execution_count": 32,
     "metadata": {},
     "output_type": "execute_result"
    }
   ],
   "source": [
    "# فلنغير نبعض المعطيات للنموذج parameters\n",
    "model= KNeighborsRegressor(n_neighbors=30, leaf_size=40)\n",
    "scores = cross_val_score(model, X, y, cv=5, scoring='neg_mean_absolute_error')\n",
    "scores"
   ]
  },
  {
   "cell_type": "code",
   "execution_count": 33,
   "id": "74e90a81",
   "metadata": {},
   "outputs": [
    {
     "data": {
      "text/plain": [
       "-7.5369865872898085"
      ]
     },
     "execution_count": 33,
     "metadata": {},
     "output_type": "execute_result"
    }
   ],
   "source": [
    "# متوسط ال5 قيم\n",
    "np.mean(scores)"
   ]
  },
  {
   "cell_type": "code",
   "execution_count": 34,
   "id": "798443ed",
   "metadata": {},
   "outputs": [
    {
     "name": "stdout",
     "output_type": "stream",
     "text": [
      "Fitting 5 folds for each of 35 candidates, totalling 175 fits\n"
     ]
    },
    {
     "data": {
      "text/plain": [
       "GridSearchCV(cv=5, estimator=SVR(),\n",
       "             param_grid={'C': [5, 3, 1.5, 1.0, 0.01, 0.001, 0.0001],\n",
       "                         'gamma': [1.0, 0.1, 0.01, 0.001, 0.0001]},\n",
       "             scoring='neg_mean_absolute_error', verbose=1)"
      ]
     },
     "execution_count": 34,
     "metadata": {},
     "output_type": "execute_result"
    }
   ],
   "source": [
    "# سنستخدم GridSearch\n",
    "# سنحاول تجربة عدة احتمالات للوصول لأفضل نموذج\n",
    "from sklearn.model_selection import GridSearchCV\n",
    "param_grid = {\n",
    "    'C':[5, 3, 1.5, 1.00, 0.01, 0.001, 0.0001],\n",
    "    'gamma':[1.0, 0.1, 0.01, 0.001, 0.0001]\n",
    "}\n",
    "gscv = GridSearchCV(estimator = SVR(), \n",
    "                        param_grid = param_grid, \n",
    "                        scoring='neg_mean_absolute_error',\n",
    "                        cv=5, \n",
    "                        verbose=1)\n",
    "\n",
    "gscv.fit(X, y)"
   ]
  },
  {
   "cell_type": "code",
   "execution_count": 35,
   "id": "8681765f",
   "metadata": {},
   "outputs": [
    {
     "data": {
      "text/plain": [
       "{'C': 1.5, 'gamma': 0.0001}"
      ]
     },
     "execution_count": 35,
     "metadata": {},
     "output_type": "execute_result"
    }
   ],
   "source": [
    "# أفضل المعطيات\n",
    "gscv.best_params_"
   ]
  },
  {
   "cell_type": "code",
   "execution_count": 36,
   "id": "72808ad8",
   "metadata": {},
   "outputs": [
    {
     "data": {
      "text/plain": [
       "-7.549371880401208"
      ]
     },
     "execution_count": 36,
     "metadata": {},
     "output_type": "execute_result"
    }
   ],
   "source": [
    "# أفضل تقييم\n",
    "gscv.best_score_"
   ]
  }
 ],
 "metadata": {
  "kernelspec": {
   "display_name": "Python 3",
   "language": "python",
   "name": "python3"
  },
  "language_info": {
   "codemirror_mode": {
    "name": "ipython",
    "version": 3
   },
   "file_extension": ".py",
   "mimetype": "text/x-python",
   "name": "python",
   "nbconvert_exporter": "python",
   "pygments_lexer": "ipython3",
   "version": "3.8.8"
  }
 },
 "nbformat": 4,
 "nbformat_minor": 5
}
